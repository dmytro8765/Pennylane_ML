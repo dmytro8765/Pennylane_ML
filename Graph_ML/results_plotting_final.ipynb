{
 "cells": [
  {
   "cell_type": "markdown",
   "id": "b4321f9d-2951-4b73-bbab-f441e530ca81",
   "metadata": {},
   "source": [
    "# Plot results"
   ]
  },
  {
   "cell_type": "code",
   "id": "2765f831-b98b-4538-996d-86aeccbbae08",
   "metadata": {
    "ExecuteTime": {
     "end_time": "2025-07-07T14:05:36.435653Z",
     "start_time": "2025-07-07T14:05:36.430364Z"
    }
   },
   "source": [
    "import matplotlib.pyplot as plt\n",
    "import numpy as np\n",
    "import pandas as pd"
   ],
   "outputs": [],
   "execution_count": 22
  },
  {
   "cell_type": "code",
   "id": "a09b4200",
   "metadata": {
    "ExecuteTime": {
     "end_time": "2025-07-07T14:08:33.277364Z",
     "start_time": "2025-07-07T14:08:33.256511Z"
    }
   },
   "source": [
    "def extract_prediction_accuracy(prediction_file_names, target_file_names, num_samples, num_epochs, num_inputs, csv_filename):\n",
    "    accuracies = []\n",
    "\n",
    "    for prediction_file_name, target_file_name in zip(prediction_file_names, target_file_names):\n",
    "        predictions = pd.read_csv(prediction_file_name)\n",
    "        targets = pd.read_csv(target_file_name)\n",
    "        data = pd.DataFrame(np.insert(predictions.to_numpy(), 3,\n",
    "                                      np.tile(targets[\"target\"].to_numpy().reshape(num_samples, num_inputs), num_epochs).reshape(-1), axis=1),\n",
    "                                      columns=[\"sampling\", \"epoch\", \"prediction\", \"target\"])\n",
    "        data[\"prediction\"] = np.sign(data[\"prediction\"])\n",
    "        data.loc[data[\"prediction\"] == -1.0, \"prediction\"] = 0.0\n",
    "        data[\"prediction\"] = data[\"prediction\"] == data[\"target\"]\n",
    "\n",
    "        #grouped = data[[\"sampling\", \"epoch\", \"prediction\"]].groupby([\"sampling\", \"epoch\"]).mean()\n",
    "        #print(grouped.head())  # See the grouped mean accuracy for a few entries\n",
    "\n",
    "        accuracies.append(data[[\"sampling\", \"epoch\", \"prediction\"]].groupby([\"sampling\", \"epoch\"]).\\\n",
    "                                                                    mean().to_numpy().reshape(num_samples, num_epochs))\n",
    "        \n",
    "        combined_df = pd.DataFrame({\"Epoch\": list(range(num_epochs))})\n",
    "        \n",
    "        # First add all means\n",
    "        for i, data in enumerate(accuracies):\n",
    "            model_id = f\"Model{i+1}\"\n",
    "            means = data.mean(axis=0)\n",
    "            print(f\"Means for Model {i+1}:\", means)\n",
    "            combined_df[f\"{model_id}_Mean\"] = data.mean(axis=0)\n",
    "\n",
    "        # Then add all errors (and sanitize)\n",
    "        for i, data in enumerate(accuracies):\n",
    "            model_id = f\"Model{i+1}\"\n",
    "            errors = data.std(axis=0)\n",
    "\n",
    "            errors = data.std(axis=0)\n",
    "            print(f\"Errors for Model {i+1}:\", errors)\n",
    "\n",
    "            # Optional: Replace absurdly large values or NaNs with 0 or np.nan\n",
    "            #errors = np.where((errors > 1e2) | ~np.isfinite(errors), np.nan, errors)\n",
    "\n",
    "            combined_df[f\"{model_id}_Error\"] = errors\n",
    "\n",
    "        # Check the final table for outliers before exporting\n",
    "        outliers = combined_df[combined_df.filter(like='_Mean').gt(1).any(axis=1)]\n",
    "        if not outliers.empty:\n",
    "            print(\"⚠️ Outliers in mean values detected:\")\n",
    "            print(outliers)\n",
    "\n",
    "        combined_df = combined_df.rename(columns={\n",
    "        'Model1_Mean': 'Sn_Mean',\n",
    "        'Model1_Error': 'Sn_Error',\n",
    "        'Model2_Mean': 'entanglement_Mean',\n",
    "        'Model2_Error': 'entanglement_Error',\n",
    "        'Model3_Mean': 'Energy_Mean',\n",
    "        'Model3_Error': 'Energy_Error',\n",
    "        'Model4_Mean': 'free_parameters_Mean',\n",
    "        'Model4_Error': 'free_parameters_Error'\n",
    "        })\n",
    "            \n",
    "        combined_df.to_csv(csv_filename)\n",
    "\n",
    "    return accuracies\n",
    "\n",
    "\n",
    "\n",
    "def plot_graph(graph_name, accuracies, num_epochs):\n",
    "    _, ax = plt.subplots(figsize=(7, 4))\n",
    "    colors = [\n",
    "        (100/255, 143/255, 255/255),\n",
    "        (120/255, 94/255, 240/255),\n",
    "        (220/255, 38/255, 127/255),\n",
    "        (254/255, 97/255, 0/255),\n",
    "        (255/255, 176/255, 0/255),\n",
    "        (255/255, 176/255, 120/255),\n",
    "    ]\n",
    "\n",
    "    for data, color in zip(accuracies, colors):\n",
    "        ax.errorbar(x=list(range(num_epochs)),\n",
    "                    y=data.mean(axis=0),\n",
    "                    yerr=data.std(axis=0),\n",
    "                    fmt=\"-o\", markersize=3, capsize=3,\n",
    "                    color=color,\n",
    "                    ecolor=(*color, 0.3))\n",
    "        \n",
    "\n",
    "    ax.set_xlabel(\"Epoch\")\n",
    "    ax.set_ylabel(\"Average test accuracy\")\n",
    "    plt.legend([\"Batch-Size 1\", \"Batch-Size 25\", \"Energy (72 parameters)\", \"Sn free parameters (88 parameters)\"])\n",
    "    plt.grid()\n",
    "    plt.title(graph_name)\n",
    "    plt.show()\n"
   ],
   "outputs": [],
   "execution_count": 27
  },
  {
   "cell_type": "markdown",
   "id": "7f7f412d-26e3-427a-b54a-8cd624f84667",
   "metadata": {},
   "source": [
    "## Connected/Disconnected Graphs"
   ]
  },
  {
   "cell_type": "code",
   "id": "3b777790-63a8-4079-a992-c18660f684b6",
   "metadata": {
    "ExecuteTime": {
     "end_time": "2025-07-07T14:08:35.845512Z",
     "start_time": "2025-07-07T14:08:35.840597Z"
    }
   },
   "source": [
    "target_file_names = [\n",
    "    \"/Users/danielles/Documents/Projekte/BAIQO/invariant_circuits/Pennylane_ML/GC-Cn_circuit-8-90-sampling_1-epochs_10-targets-test-7071545.csv\",\n",
    "    \"/Users/danielles/Documents/Projekte/BAIQO/invariant_circuits/Pennylane_ML/GC-Cn_circuit-8-90-sampling_1-epochs_10-targets-test-7071558.csv\",\n",
    "]\n",
    "prediction_file_names = [\n",
    "    \"/Users/danielles/Documents/Projekte/BAIQO/invariant_circuits/Pennylane_ML/GC-Cn_circuit-8-90-sampling_1-epochs_10-predictions-test-7071545.csv\",\n",
    "    \"/Users/danielles/Documents/Projekte/BAIQO/invariant_circuits/Pennylane_ML/GC-Cn_circuit-8-90-sampling_1-epochs_10-predictions-test-7071558.csv\"\n",
    "]\n",
    "#csv_filename = \"/Users/home/qiskit_env/Pennylane/output/blablabla.csv\""
   ],
   "outputs": [],
   "execution_count": 28
  },
  {
   "cell_type": "code",
   "id": "10b9bdf4",
   "metadata": {
    "ExecuteTime": {
     "end_time": "2025-07-07T14:08:39.373830Z",
     "start_time": "2025-07-07T14:08:39.343795Z"
    }
   },
   "source": [
    "num_samples = 1\n",
    "num_epochs = 11\n",
    "num_inputs = 50\n",
    "csv_filename = \"/Users/danielles/Documents/Projekte/BAIQO/invariant_circuits/Pennylane_ML/accuracies.csv\"\n",
    "\n",
    "accuracies = extract_prediction_accuracy(prediction_file_names, target_file_names, num_samples, num_epochs, num_inputs, csv_filename)"
   ],
   "outputs": [
    {
     "name": "stdout",
     "output_type": "stream",
     "text": [
      "Means for Model 1: [0.54 0.52 0.64 0.68 0.7  0.72 0.72 0.7  0.72 0.72 0.7 ]\n",
      "Errors for Model 1: [0. 0. 0. 0. 0. 0. 0. 0. 0. 0. 0.]\n",
      "Means for Model 1: [0.54 0.52 0.64 0.68 0.7  0.72 0.72 0.7  0.72 0.72 0.7 ]\n",
      "Means for Model 2: [0.54 0.54 0.52 0.56 0.6  0.64 0.66 0.68 0.68 0.68 0.72]\n",
      "Errors for Model 1: [0. 0. 0. 0. 0. 0. 0. 0. 0. 0. 0.]\n",
      "Errors for Model 2: [0. 0. 0. 0. 0. 0. 0. 0. 0. 0. 0.]\n"
     ]
    }
   ],
   "execution_count": 29
  },
  {
   "cell_type": "code",
   "id": "d8fe3107",
   "metadata": {
    "ExecuteTime": {
     "end_time": "2025-07-07T14:08:42.776120Z",
     "start_time": "2025-07-07T14:08:42.534414Z"
    }
   },
   "source": [
    "plot_graph(\"8 Qubits - Graph connectedness\", accuracies, num_epochs)"
   ],
   "outputs": [
    {
     "data": {
      "text/plain": [
       "<Figure size 700x400 with 1 Axes>"
      ],
      "image/png": "[encoded data removed]"
     },
     "metadata": {},
     "output_type": "display_data"
    }
   ],
   "execution_count": 30
  },
  {
   "cell_type": "markdown",
   "id": "f6a99a70",
   "metadata": {},
   "source": [
    "## Hamiltonian"
   ]
  },
  {
   "cell_type": "code",
   "id": "d1206b58",
   "metadata": {
    "ExecuteTime": {
     "end_time": "2025-07-07T14:03:11.501905Z",
     "start_time": "2025-07-07T14:03:11.497675Z"
    }
   },
   "source": [
    "target_file_names = [\n",
    "    \"/Users/home/qiskit_env/Pennylane/output/hamiltonian/Hamiltonian-Sn_circuit-8-120-sampling_10-epochs_50-targets-test-1.csv\",\n",
    "    \"/Users/home/qiskit_env/Pennylane/output/hamiltonian/Hamiltonian-Cn_circuit-8-120-sampling_10-epochs_50-targets-test-0.csv\",\n",
    "    \"/Users/home/qiskit_env/Pennylane/output/hamiltonian/Hamiltonian-entanglement_circuit-8-120-sampling_10-epochs_50-targets-test-0.csv\",\n",
    "    \"/Users/home/qiskit_env/Pennylane/output/hamiltonian/Hamiltonian-Sn_free_parameter_circuit-8-132-sampling_10-epochs_50-targets-test-0.csv\",\n",
    "]\n",
    "prediction_file_names = [\n",
    "    \"/Users/home/qiskit_env/Pennylane/output/hamiltonian/Hamiltonian-Sn_circuit-8-120-sampling_10-epochs_50-predictions-test-1.csv\",\n",
    "    \"/Users/home/qiskit_env/Pennylane/output/hamiltonian/Hamiltonian-Cn_circuit-8-120-sampling_10-epochs_50-predictions-test-0.csv\",\n",
    "    \"/Users/home/qiskit_env/Pennylane/output/hamiltonian/Hamiltonian-entanglement_circuit-8-120-sampling_10-epochs_50-predictions-test-0.csv\",\n",
    "    \"/Users/home/qiskit_env/Pennylane/output/hamiltonian/Hamiltonian-Sn_free_parameter_circuit-8-132-sampling_10-epochs_50-predictions-test-0.csv\",\n",
    "]"
   ],
   "outputs": [],
   "execution_count": 10
  },
  {
   "cell_type": "code",
   "id": "8d0a9f79",
   "metadata": {
    "ExecuteTime": {
     "end_time": "2025-07-07T14:03:11.722783Z",
     "start_time": "2025-07-07T14:03:11.697330Z"
    }
   },
   "source": [
    "num_samples = 10\n",
    "num_epochs = 51\n",
    "num_inputs = 2900\n",
    "\n",
    "accuracies = extract_prediction_accuracy(prediction_file_names, target_file_names, num_samples, num_epochs, num_inputs)"
   ],
   "outputs": [
    {
     "ename": "TypeError",
     "evalue": "extract_prediction_accuracy() missing 1 required positional argument: 'csv_filename'",
     "output_type": "error",
     "traceback": [
      "\u001B[0;31m---------------------------------------------------------------------------\u001B[0m",
      "\u001B[0;31mTypeError\u001B[0m                                 Traceback (most recent call last)",
      "Cell \u001B[0;32mIn[11], line 5\u001B[0m\n\u001B[1;32m      2\u001B[0m num_epochs \u001B[38;5;241m=\u001B[39m \u001B[38;5;241m51\u001B[39m\n\u001B[1;32m      3\u001B[0m num_inputs \u001B[38;5;241m=\u001B[39m \u001B[38;5;241m2900\u001B[39m\n\u001B[0;32m----> 5\u001B[0m accuracies \u001B[38;5;241m=\u001B[39m \u001B[43mextract_prediction_accuracy\u001B[49m\u001B[43m(\u001B[49m\u001B[43mprediction_file_names\u001B[49m\u001B[43m,\u001B[49m\u001B[43m \u001B[49m\u001B[43mtarget_file_names\u001B[49m\u001B[43m,\u001B[49m\u001B[43m \u001B[49m\u001B[43mnum_samples\u001B[49m\u001B[43m,\u001B[49m\u001B[43m \u001B[49m\u001B[43mnum_epochs\u001B[49m\u001B[43m,\u001B[49m\u001B[43m \u001B[49m\u001B[43mnum_inputs\u001B[49m\u001B[43m)\u001B[49m\n",
      "\u001B[0;31mTypeError\u001B[0m: extract_prediction_accuracy() missing 1 required positional argument: 'csv_filename'"
     ]
    }
   ],
   "execution_count": 11
  },
  {
   "cell_type": "code",
   "id": "cbfe36a4",
   "metadata": {
    "ExecuteTime": {
     "end_time": "2025-07-07T14:03:11.840543Z",
     "start_time": "2025-07-07T14:03:11.788330Z"
    }
   },
   "source": [
    "plot_graph(\"8 Qubits - Hamiltonian\", accuracies, num_epochs)"
   ],
   "outputs": [
    {
     "ename": "NameError",
     "evalue": "name 'accuracies' is not defined",
     "output_type": "error",
     "traceback": [
      "\u001B[0;31m---------------------------------------------------------------------------\u001B[0m",
      "\u001B[0;31mNameError\u001B[0m                                 Traceback (most recent call last)",
      "Cell \u001B[0;32mIn[12], line 1\u001B[0m\n\u001B[0;32m----> 1\u001B[0m plot_graph(\u001B[38;5;124m\"\u001B[39m\u001B[38;5;124m8 Qubits - Hamiltonian\u001B[39m\u001B[38;5;124m\"\u001B[39m, \u001B[43maccuracies\u001B[49m, num_epochs)\n",
      "\u001B[0;31mNameError\u001B[0m: name 'accuracies' is not defined"
     ]
    }
   ],
   "execution_count": 12
  },
  {
   "cell_type": "markdown",
   "id": "7fe38bb0",
   "metadata": {},
   "source": [
    "## Bipartite"
   ]
  },
  {
   "cell_type": "code",
   "id": "e32b9d62",
   "metadata": {
    "ExecuteTime": {
     "end_time": "2025-07-07T14:03:11.913954Z",
     "start_time": "2025-07-07T14:03:11.908576Z"
    }
   },
   "source": [
    "target_file_names = [\n",
    "    \"/Users/home/qiskit_env/Pennylane/output/bipartite/Bipartite_test_test-Sn_circuit-6-60-sampling_5-epochs_30-targets-test-1.csv\",\n",
    "    \"/Users/home/qiskit_env/Pennylane/output/bipartite/Bipartite_test_test-entanglement_circuit-6-60-sampling_5-epochs_30-targets-test-0.csv\",\n",
    "    \"/Users/home/qiskit_env/Pennylane/output/bipartite/Bipartite_test_test-Energy_circuit-6-63-sampling_5-epochs_30-targets-test-1.csv\",\n",
    "    \"/Users/home/qiskit_env/Pennylane/output/bipartite/Bipartite_test_test-Sn_free_parameter_circuit-6-54-sampling_5-epochs_30-targets-test-0.csv\",\n",
    "]\n",
    "prediction_file_names = [\n",
    "    \"/Users/home/qiskit_env/Pennylane/output/bipartite/Bipartite_test_test-Sn_circuit-6-60-sampling_5-epochs_30-predictions-test-1.csv\",\n",
    "    \"/Users/home/qiskit_env/Pennylane/output/bipartite/Bipartite_test_test-entanglement_circuit-6-60-sampling_5-epochs_30-predictions-test-0.csv\",\n",
    "    \"/Users/home/qiskit_env/Pennylane/output/bipartite/Bipartite_test_test-Energy_circuit-6-63-sampling_5-epochs_30-predictions-test-1.csv\",\n",
    "    \"/Users/home/qiskit_env/Pennylane/output/bipartite/Bipartite_test_test-Sn_free_parameter_circuit-6-54-sampling_5-epochs_30-predictions-test-0.csv\",\n",
    "]\n"
   ],
   "outputs": [],
   "execution_count": 13
  },
  {
   "cell_type": "code",
   "id": "6b428688",
   "metadata": {
    "ExecuteTime": {
     "end_time": "2025-07-07T14:03:12.019729Z",
     "start_time": "2025-07-07T14:03:11.998291Z"
    }
   },
   "source": [
    "num_samples = 5\n",
    "num_epochs = 31 # always n+1\n",
    "num_inputs = 2900\n",
    "\n",
    "accuracies = extract_prediction_accuracy(prediction_file_names, target_file_names, num_samples, num_epochs, num_inputs)"
   ],
   "outputs": [
    {
     "ename": "TypeError",
     "evalue": "extract_prediction_accuracy() missing 1 required positional argument: 'csv_filename'",
     "output_type": "error",
     "traceback": [
      "\u001B[0;31m---------------------------------------------------------------------------\u001B[0m",
      "\u001B[0;31mTypeError\u001B[0m                                 Traceback (most recent call last)",
      "Cell \u001B[0;32mIn[14], line 5\u001B[0m\n\u001B[1;32m      2\u001B[0m num_epochs \u001B[38;5;241m=\u001B[39m \u001B[38;5;241m31\u001B[39m \u001B[38;5;66;03m# always n+1\u001B[39;00m\n\u001B[1;32m      3\u001B[0m num_inputs \u001B[38;5;241m=\u001B[39m \u001B[38;5;241m2900\u001B[39m\n\u001B[0;32m----> 5\u001B[0m accuracies \u001B[38;5;241m=\u001B[39m \u001B[43mextract_prediction_accuracy\u001B[49m\u001B[43m(\u001B[49m\u001B[43mprediction_file_names\u001B[49m\u001B[43m,\u001B[49m\u001B[43m \u001B[49m\u001B[43mtarget_file_names\u001B[49m\u001B[43m,\u001B[49m\u001B[43m \u001B[49m\u001B[43mnum_samples\u001B[49m\u001B[43m,\u001B[49m\u001B[43m \u001B[49m\u001B[43mnum_epochs\u001B[49m\u001B[43m,\u001B[49m\u001B[43m \u001B[49m\u001B[43mnum_inputs\u001B[49m\u001B[43m)\u001B[49m\n",
      "\u001B[0;31mTypeError\u001B[0m: extract_prediction_accuracy() missing 1 required positional argument: 'csv_filename'"
     ]
    }
   ],
   "execution_count": 14
  },
  {
   "cell_type": "code",
   "id": "fd141944",
   "metadata": {
    "ExecuteTime": {
     "end_time": "2025-07-07T14:03:12.076625Z",
     "start_time": "2025-07-07T14:03:12.074126Z"
    }
   },
   "source": [],
   "outputs": [],
   "execution_count": 14
  },
  {
   "cell_type": "code",
   "id": "c42f7ddf",
   "metadata": {
    "ExecuteTime": {
     "end_time": "2025-07-07T14:03:12.115327Z",
     "start_time": "2025-07-07T14:03:12.092628Z"
    }
   },
   "source": [
    "plot_graph(\"6 Qubits - Bipartite\", accuracies, num_epochs)"
   ],
   "outputs": [
    {
     "ename": "NameError",
     "evalue": "name 'accuracies' is not defined",
     "output_type": "error",
     "traceback": [
      "\u001B[0;31m---------------------------------------------------------------------------\u001B[0m",
      "\u001B[0;31mNameError\u001B[0m                                 Traceback (most recent call last)",
      "Cell \u001B[0;32mIn[15], line 1\u001B[0m\n\u001B[0;32m----> 1\u001B[0m plot_graph(\u001B[38;5;124m\"\u001B[39m\u001B[38;5;124m6 Qubits - Bipartite\u001B[39m\u001B[38;5;124m\"\u001B[39m, \u001B[43maccuracies\u001B[49m, num_epochs)\n",
      "\u001B[0;31mNameError\u001B[0m: name 'accuracies' is not defined"
     ]
    }
   ],
   "execution_count": 15
  },
  {
   "cell_type": "markdown",
   "id": "2e3efc58",
   "metadata": {},
   "source": [
    "## Connected + Bipartite"
   ]
  },
  {
   "cell_type": "code",
   "id": "a1313eed",
   "metadata": {
    "ExecuteTime": {
     "end_time": "2025-07-07T14:03:12.153937Z",
     "start_time": "2025-07-07T14:03:12.148782Z"
    }
   },
   "source": [
    "target_file_names = [\n",
    "    \"/Users/home/qiskit_env/Pennylane/output/connected_plus_bipartite/Connected_plus_Bipartite-Sn_circuit-8-120-sampling_10-epochs_50-targets-test-1.csv\",\n",
    "    \"/Users/home/qiskit_env/Pennylane/output/connected_plus_bipartite/Connected_plus_Bipartite-Cn_circuit-8-120-sampling_10-epochs_50-targets-test-0.csv\",\n",
    "    \"/Users/home/qiskit_env/Pennylane/output/connected_plus_bipartite/Connected_plus_Bipartite-entanglement_circuit-8-120-sampling_10-epochs_50-targets-test-0.csv\",\n",
    "    \"/Users/home/qiskit_env/Pennylane/output/connected_plus_bipartite/Connected_plus_Bipartite-Sn_free_parameter_circuit-8-132-sampling_10-epochs_50-targets-test-0.csv\",\n",
    "]\n",
    "prediction_file_names = [\n",
    "    \"/Users/home/qiskit_env/Pennylane/output/connected_plus_bipartite/Connected_plus_Bipartite-Sn_circuit-8-120-sampling_10-epochs_50-predictions-test-1.csv\",\n",
    "    \"/Users/home/qiskit_env/Pennylane/output/connected_plus_bipartite/Connected_plus_Bipartite-Cn_circuit-8-120-sampling_10-epochs_50-predictions-test-0.csv\",\n",
    "    \"/Users/home/qiskit_env/Pennylane/output/connected_plus_bipartite/Connected_plus_Bipartite-entanglement_circuit-8-120-sampling_10-epochs_50-predictions-test-0.csv\",\n",
    "    \"/Users/home/qiskit_env/Pennylane/output/connected_plus_bipartite/Connected_plus_Bipartite-Sn_free_parameter_circuit-8-132-sampling_10-epochs_50-predictions-test-0.csv\",\n",
    "]"
   ],
   "outputs": [],
   "execution_count": 16
  },
  {
   "cell_type": "code",
   "id": "cc271939",
   "metadata": {
    "ExecuteTime": {
     "end_time": "2025-07-07T14:03:12.232580Z",
     "start_time": "2025-07-07T14:03:12.206878Z"
    }
   },
   "source": [
    "num_samples = 10\n",
    "num_epochs = 51 # always n+1\n",
    "num_inputs = 2900\n",
    "\n",
    "accuracies = extract_prediction_accuracy(prediction_file_names, target_file_names, num_samples, num_epochs, num_inputs)"
   ],
   "outputs": [
    {
     "ename": "TypeError",
     "evalue": "extract_prediction_accuracy() missing 1 required positional argument: 'csv_filename'",
     "output_type": "error",
     "traceback": [
      "\u001B[0;31m---------------------------------------------------------------------------\u001B[0m",
      "\u001B[0;31mTypeError\u001B[0m                                 Traceback (most recent call last)",
      "Cell \u001B[0;32mIn[17], line 5\u001B[0m\n\u001B[1;32m      2\u001B[0m num_epochs \u001B[38;5;241m=\u001B[39m \u001B[38;5;241m51\u001B[39m \u001B[38;5;66;03m# always n+1\u001B[39;00m\n\u001B[1;32m      3\u001B[0m num_inputs \u001B[38;5;241m=\u001B[39m \u001B[38;5;241m2900\u001B[39m\n\u001B[0;32m----> 5\u001B[0m accuracies \u001B[38;5;241m=\u001B[39m \u001B[43mextract_prediction_accuracy\u001B[49m\u001B[43m(\u001B[49m\u001B[43mprediction_file_names\u001B[49m\u001B[43m,\u001B[49m\u001B[43m \u001B[49m\u001B[43mtarget_file_names\u001B[49m\u001B[43m,\u001B[49m\u001B[43m \u001B[49m\u001B[43mnum_samples\u001B[49m\u001B[43m,\u001B[49m\u001B[43m \u001B[49m\u001B[43mnum_epochs\u001B[49m\u001B[43m,\u001B[49m\u001B[43m \u001B[49m\u001B[43mnum_inputs\u001B[49m\u001B[43m)\u001B[49m\n",
      "\u001B[0;31mTypeError\u001B[0m: extract_prediction_accuracy() missing 1 required positional argument: 'csv_filename'"
     ]
    }
   ],
   "execution_count": 17
  },
  {
   "cell_type": "code",
   "id": "d61b98f6",
   "metadata": {
    "ExecuteTime": {
     "end_time": "2025-07-07T14:03:12.330178Z",
     "start_time": "2025-07-07T14:03:12.304715Z"
    }
   },
   "source": [
    "plot_graph(\"8 Qubits - Connected + Bipartite Accuracies\", accuracies, num_epochs)"
   ],
   "outputs": [
    {
     "ename": "NameError",
     "evalue": "name 'accuracies' is not defined",
     "output_type": "error",
     "traceback": [
      "\u001B[0;31m---------------------------------------------------------------------------\u001B[0m",
      "\u001B[0;31mNameError\u001B[0m                                 Traceback (most recent call last)",
      "Cell \u001B[0;32mIn[18], line 1\u001B[0m\n\u001B[0;32m----> 1\u001B[0m plot_graph(\u001B[38;5;124m\"\u001B[39m\u001B[38;5;124m8 Qubits - Connected + Bipartite Accuracies\u001B[39m\u001B[38;5;124m\"\u001B[39m, \u001B[43maccuracies\u001B[49m, num_epochs)\n",
      "\u001B[0;31mNameError\u001B[0m: name 'accuracies' is not defined"
     ]
    }
   ],
   "execution_count": 18
  },
  {
   "cell_type": "markdown",
   "id": "047053dc",
   "metadata": {},
   "source": [
    "## Hamiltonian Cycle"
   ]
  },
  {
   "cell_type": "code",
   "id": "3c096b20",
   "metadata": {
    "ExecuteTime": {
     "end_time": "2025-07-07T14:03:12.400202Z",
     "start_time": "2025-07-07T14:03:12.395264Z"
    }
   },
   "source": [
    "target_file_names = [\n",
    "    \"/Users/home/qiskit_env/Pennylane/output/hamiltonian/Ham_cycle-Sn_circuit-8-120-sampling_10-epochs_50-targets-test-1.csv\",\n",
    "    \"/Users/home/qiskit_env/Pennylane/output/hamiltonian/Ham_cycle-Cn_circuit-8-120-sampling_10-epochs_50-targets-test-0.csv\",\n",
    "    \"/Users/home/qiskit_env/Pennylane/output/hamiltonian/Ham_cycle-entanglement_circuit-8-120-sampling_10-epochs_50-targets-test-0.csv\",\n",
    "    \"/Users/home/qiskit_env/Pennylane/output/hamiltonian/Ham_cycle-Sn_free_parameter_circuit-8-132-sampling_10-epochs_50-targets-test-0.csv\",\n",
    "]\n",
    "prediction_file_names = [\n",
    "    \"/Users/home/qiskit_env/Pennylane/output/hamiltonian/Ham_cycle-Sn_circuit-8-120-sampling_10-epochs_50-predictions-test-1.csv\",\n",
    "    \"/Users/home/qiskit_env/Pennylane/output/hamiltonian/Ham_cycle-Cn_circuit-8-120-sampling_10-epochs_50-predictions-test-0.csv\",\n",
    "    \"/Users/home/qiskit_env/Pennylane/output/hamiltonian/Ham_cycle-entanglement_circuit-8-120-sampling_10-epochs_50-predictions-test-0.csv\",\n",
    "    \"/Users/home/qiskit_env/Pennylane/output/hamiltonian/Ham_cycle-Sn_free_parameter_circuit-8-132-sampling_10-epochs_50-predictions-test-0.csv\",\n",
    "]\n",
    "csv_filename = \"/Users/home/qiskit_env/Pennylane/output/hamiltonian/Grouped-Ham_Cycle-s_10-e_50.csv\""
   ],
   "outputs": [],
   "execution_count": 19
  },
  {
   "cell_type": "code",
   "id": "433cb526",
   "metadata": {
    "ExecuteTime": {
     "end_time": "2025-07-07T14:03:13.028118Z",
     "start_time": "2025-07-07T14:03:12.454457Z"
    }
   },
   "source": [
    "num_samples = 10\n",
    "num_epochs = 51 # always n+1\n",
    "num_inputs = 2900\n",
    "\n",
    "accuracies = extract_prediction_accuracy(prediction_file_names, target_file_names, csv_filename, num_samples, num_epochs, num_inputs)"
   ],
   "outputs": [
    {
     "ename": "FileNotFoundError",
     "evalue": "[Errno 2] No such file or directory: '/Users/home/qiskit_env/Pennylane/output/hamiltonian/Ham_cycle-Sn_circuit-8-120-sampling_10-epochs_50-predictions-test-1.csv'",
     "output_type": "error",
     "traceback": [
      "\u001B[0;31m---------------------------------------------------------------------------\u001B[0m",
      "\u001B[0;31mFileNotFoundError\u001B[0m                         Traceback (most recent call last)",
      "Cell \u001B[0;32mIn[20], line 5\u001B[0m\n\u001B[1;32m      2\u001B[0m num_epochs \u001B[38;5;241m=\u001B[39m \u001B[38;5;241m51\u001B[39m \u001B[38;5;66;03m# always n+1\u001B[39;00m\n\u001B[1;32m      3\u001B[0m num_inputs \u001B[38;5;241m=\u001B[39m \u001B[38;5;241m2900\u001B[39m\n\u001B[0;32m----> 5\u001B[0m accuracies \u001B[38;5;241m=\u001B[39m \u001B[43mextract_prediction_accuracy\u001B[49m\u001B[43m(\u001B[49m\u001B[43mprediction_file_names\u001B[49m\u001B[43m,\u001B[49m\u001B[43m \u001B[49m\u001B[43mtarget_file_names\u001B[49m\u001B[43m,\u001B[49m\u001B[43m \u001B[49m\u001B[43mcsv_filename\u001B[49m\u001B[43m,\u001B[49m\u001B[43m \u001B[49m\u001B[43mnum_samples\u001B[49m\u001B[43m,\u001B[49m\u001B[43m \u001B[49m\u001B[43mnum_epochs\u001B[49m\u001B[43m,\u001B[49m\u001B[43m \u001B[49m\u001B[43mnum_inputs\u001B[49m\u001B[43m)\u001B[49m\n",
      "Cell \u001B[0;32mIn[6], line 5\u001B[0m, in \u001B[0;36mextract_prediction_accuracy\u001B[0;34m(prediction_file_names, target_file_names, num_samples, num_epochs, num_inputs, csv_filename)\u001B[0m\n\u001B[1;32m      2\u001B[0m accuracies \u001B[38;5;241m=\u001B[39m []\n\u001B[1;32m      4\u001B[0m \u001B[38;5;28;01mfor\u001B[39;00m prediction_file_name, target_file_name \u001B[38;5;129;01min\u001B[39;00m \u001B[38;5;28mzip\u001B[39m(prediction_file_names, target_file_names):\n\u001B[0;32m----> 5\u001B[0m     predictions \u001B[38;5;241m=\u001B[39m \u001B[43mpd\u001B[49m\u001B[38;5;241;43m.\u001B[39;49m\u001B[43mread_csv\u001B[49m\u001B[43m(\u001B[49m\u001B[43mprediction_file_name\u001B[49m\u001B[43m)\u001B[49m\n\u001B[1;32m      6\u001B[0m     targets \u001B[38;5;241m=\u001B[39m pd\u001B[38;5;241m.\u001B[39mread_csv(target_file_name)\n\u001B[1;32m      7\u001B[0m     data \u001B[38;5;241m=\u001B[39m pd\u001B[38;5;241m.\u001B[39mDataFrame(np\u001B[38;5;241m.\u001B[39minsert(predictions\u001B[38;5;241m.\u001B[39mto_numpy(), \u001B[38;5;241m3\u001B[39m,\n\u001B[1;32m      8\u001B[0m                                   np\u001B[38;5;241m.\u001B[39mtile(targets[\u001B[38;5;124m\"\u001B[39m\u001B[38;5;124mtarget\u001B[39m\u001B[38;5;124m\"\u001B[39m]\u001B[38;5;241m.\u001B[39mto_numpy()\u001B[38;5;241m.\u001B[39mreshape(num_samples, num_inputs), num_epochs)\u001B[38;5;241m.\u001B[39mreshape(\u001B[38;5;241m-\u001B[39m\u001B[38;5;241m1\u001B[39m), axis\u001B[38;5;241m=\u001B[39m\u001B[38;5;241m1\u001B[39m),\n\u001B[1;32m      9\u001B[0m                                   columns\u001B[38;5;241m=\u001B[39m[\u001B[38;5;124m\"\u001B[39m\u001B[38;5;124msampling\u001B[39m\u001B[38;5;124m\"\u001B[39m, \u001B[38;5;124m\"\u001B[39m\u001B[38;5;124mepoch\u001B[39m\u001B[38;5;124m\"\u001B[39m, \u001B[38;5;124m\"\u001B[39m\u001B[38;5;124mprediction\u001B[39m\u001B[38;5;124m\"\u001B[39m, \u001B[38;5;124m\"\u001B[39m\u001B[38;5;124mtarget\u001B[39m\u001B[38;5;124m\"\u001B[39m])\n",
      "File \u001B[0;32m~/Documents/Projekte/BAIQO/invariant_circuits/Pennylane_ML/.venv/lib/python3.10/site-packages/pandas/io/parsers/readers.py:1026\u001B[0m, in \u001B[0;36mread_csv\u001B[0;34m(filepath_or_buffer, sep, delimiter, header, names, index_col, usecols, dtype, engine, converters, true_values, false_values, skipinitialspace, skiprows, skipfooter, nrows, na_values, keep_default_na, na_filter, verbose, skip_blank_lines, parse_dates, infer_datetime_format, keep_date_col, date_parser, date_format, dayfirst, cache_dates, iterator, chunksize, compression, thousands, decimal, lineterminator, quotechar, quoting, doublequote, escapechar, comment, encoding, encoding_errors, dialect, on_bad_lines, delim_whitespace, low_memory, memory_map, float_precision, storage_options, dtype_backend)\u001B[0m\n\u001B[1;32m   1013\u001B[0m kwds_defaults \u001B[38;5;241m=\u001B[39m _refine_defaults_read(\n\u001B[1;32m   1014\u001B[0m     dialect,\n\u001B[1;32m   1015\u001B[0m     delimiter,\n\u001B[0;32m   (...)\u001B[0m\n\u001B[1;32m   1022\u001B[0m     dtype_backend\u001B[38;5;241m=\u001B[39mdtype_backend,\n\u001B[1;32m   1023\u001B[0m )\n\u001B[1;32m   1024\u001B[0m kwds\u001B[38;5;241m.\u001B[39mupdate(kwds_defaults)\n\u001B[0;32m-> 1026\u001B[0m \u001B[38;5;28;01mreturn\u001B[39;00m \u001B[43m_read\u001B[49m\u001B[43m(\u001B[49m\u001B[43mfilepath_or_buffer\u001B[49m\u001B[43m,\u001B[49m\u001B[43m \u001B[49m\u001B[43mkwds\u001B[49m\u001B[43m)\u001B[49m\n",
      "File \u001B[0;32m~/Documents/Projekte/BAIQO/invariant_circuits/Pennylane_ML/.venv/lib/python3.10/site-packages/pandas/io/parsers/readers.py:620\u001B[0m, in \u001B[0;36m_read\u001B[0;34m(filepath_or_buffer, kwds)\u001B[0m\n\u001B[1;32m    617\u001B[0m _validate_names(kwds\u001B[38;5;241m.\u001B[39mget(\u001B[38;5;124m\"\u001B[39m\u001B[38;5;124mnames\u001B[39m\u001B[38;5;124m\"\u001B[39m, \u001B[38;5;28;01mNone\u001B[39;00m))\n\u001B[1;32m    619\u001B[0m \u001B[38;5;66;03m# Create the parser.\u001B[39;00m\n\u001B[0;32m--> 620\u001B[0m parser \u001B[38;5;241m=\u001B[39m \u001B[43mTextFileReader\u001B[49m\u001B[43m(\u001B[49m\u001B[43mfilepath_or_buffer\u001B[49m\u001B[43m,\u001B[49m\u001B[43m \u001B[49m\u001B[38;5;241;43m*\u001B[39;49m\u001B[38;5;241;43m*\u001B[39;49m\u001B[43mkwds\u001B[49m\u001B[43m)\u001B[49m\n\u001B[1;32m    622\u001B[0m \u001B[38;5;28;01mif\u001B[39;00m chunksize \u001B[38;5;129;01mor\u001B[39;00m iterator:\n\u001B[1;32m    623\u001B[0m     \u001B[38;5;28;01mreturn\u001B[39;00m parser\n",
      "File \u001B[0;32m~/Documents/Projekte/BAIQO/invariant_circuits/Pennylane_ML/.venv/lib/python3.10/site-packages/pandas/io/parsers/readers.py:1620\u001B[0m, in \u001B[0;36mTextFileReader.__init__\u001B[0;34m(self, f, engine, **kwds)\u001B[0m\n\u001B[1;32m   1617\u001B[0m     \u001B[38;5;28mself\u001B[39m\u001B[38;5;241m.\u001B[39moptions[\u001B[38;5;124m\"\u001B[39m\u001B[38;5;124mhas_index_names\u001B[39m\u001B[38;5;124m\"\u001B[39m] \u001B[38;5;241m=\u001B[39m kwds[\u001B[38;5;124m\"\u001B[39m\u001B[38;5;124mhas_index_names\u001B[39m\u001B[38;5;124m\"\u001B[39m]\n\u001B[1;32m   1619\u001B[0m \u001B[38;5;28mself\u001B[39m\u001B[38;5;241m.\u001B[39mhandles: IOHandles \u001B[38;5;241m|\u001B[39m \u001B[38;5;28;01mNone\u001B[39;00m \u001B[38;5;241m=\u001B[39m \u001B[38;5;28;01mNone\u001B[39;00m\n\u001B[0;32m-> 1620\u001B[0m \u001B[38;5;28mself\u001B[39m\u001B[38;5;241m.\u001B[39m_engine \u001B[38;5;241m=\u001B[39m \u001B[38;5;28;43mself\u001B[39;49m\u001B[38;5;241;43m.\u001B[39;49m\u001B[43m_make_engine\u001B[49m\u001B[43m(\u001B[49m\u001B[43mf\u001B[49m\u001B[43m,\u001B[49m\u001B[43m \u001B[49m\u001B[38;5;28;43mself\u001B[39;49m\u001B[38;5;241;43m.\u001B[39;49m\u001B[43mengine\u001B[49m\u001B[43m)\u001B[49m\n",
      "File \u001B[0;32m~/Documents/Projekte/BAIQO/invariant_circuits/Pennylane_ML/.venv/lib/python3.10/site-packages/pandas/io/parsers/readers.py:1880\u001B[0m, in \u001B[0;36mTextFileReader._make_engine\u001B[0;34m(self, f, engine)\u001B[0m\n\u001B[1;32m   1878\u001B[0m     \u001B[38;5;28;01mif\u001B[39;00m \u001B[38;5;124m\"\u001B[39m\u001B[38;5;124mb\u001B[39m\u001B[38;5;124m\"\u001B[39m \u001B[38;5;129;01mnot\u001B[39;00m \u001B[38;5;129;01min\u001B[39;00m mode:\n\u001B[1;32m   1879\u001B[0m         mode \u001B[38;5;241m+\u001B[39m\u001B[38;5;241m=\u001B[39m \u001B[38;5;124m\"\u001B[39m\u001B[38;5;124mb\u001B[39m\u001B[38;5;124m\"\u001B[39m\n\u001B[0;32m-> 1880\u001B[0m \u001B[38;5;28mself\u001B[39m\u001B[38;5;241m.\u001B[39mhandles \u001B[38;5;241m=\u001B[39m \u001B[43mget_handle\u001B[49m\u001B[43m(\u001B[49m\n\u001B[1;32m   1881\u001B[0m \u001B[43m    \u001B[49m\u001B[43mf\u001B[49m\u001B[43m,\u001B[49m\n\u001B[1;32m   1882\u001B[0m \u001B[43m    \u001B[49m\u001B[43mmode\u001B[49m\u001B[43m,\u001B[49m\n\u001B[1;32m   1883\u001B[0m \u001B[43m    \u001B[49m\u001B[43mencoding\u001B[49m\u001B[38;5;241;43m=\u001B[39;49m\u001B[38;5;28;43mself\u001B[39;49m\u001B[38;5;241;43m.\u001B[39;49m\u001B[43moptions\u001B[49m\u001B[38;5;241;43m.\u001B[39;49m\u001B[43mget\u001B[49m\u001B[43m(\u001B[49m\u001B[38;5;124;43m\"\u001B[39;49m\u001B[38;5;124;43mencoding\u001B[39;49m\u001B[38;5;124;43m\"\u001B[39;49m\u001B[43m,\u001B[49m\u001B[43m \u001B[49m\u001B[38;5;28;43;01mNone\u001B[39;49;00m\u001B[43m)\u001B[49m\u001B[43m,\u001B[49m\n\u001B[1;32m   1884\u001B[0m \u001B[43m    \u001B[49m\u001B[43mcompression\u001B[49m\u001B[38;5;241;43m=\u001B[39;49m\u001B[38;5;28;43mself\u001B[39;49m\u001B[38;5;241;43m.\u001B[39;49m\u001B[43moptions\u001B[49m\u001B[38;5;241;43m.\u001B[39;49m\u001B[43mget\u001B[49m\u001B[43m(\u001B[49m\u001B[38;5;124;43m\"\u001B[39;49m\u001B[38;5;124;43mcompression\u001B[39;49m\u001B[38;5;124;43m\"\u001B[39;49m\u001B[43m,\u001B[49m\u001B[43m \u001B[49m\u001B[38;5;28;43;01mNone\u001B[39;49;00m\u001B[43m)\u001B[49m\u001B[43m,\u001B[49m\n\u001B[1;32m   1885\u001B[0m \u001B[43m    \u001B[49m\u001B[43mmemory_map\u001B[49m\u001B[38;5;241;43m=\u001B[39;49m\u001B[38;5;28;43mself\u001B[39;49m\u001B[38;5;241;43m.\u001B[39;49m\u001B[43moptions\u001B[49m\u001B[38;5;241;43m.\u001B[39;49m\u001B[43mget\u001B[49m\u001B[43m(\u001B[49m\u001B[38;5;124;43m\"\u001B[39;49m\u001B[38;5;124;43mmemory_map\u001B[39;49m\u001B[38;5;124;43m\"\u001B[39;49m\u001B[43m,\u001B[49m\u001B[43m \u001B[49m\u001B[38;5;28;43;01mFalse\u001B[39;49;00m\u001B[43m)\u001B[49m\u001B[43m,\u001B[49m\n\u001B[1;32m   1886\u001B[0m \u001B[43m    \u001B[49m\u001B[43mis_text\u001B[49m\u001B[38;5;241;43m=\u001B[39;49m\u001B[43mis_text\u001B[49m\u001B[43m,\u001B[49m\n\u001B[1;32m   1887\u001B[0m \u001B[43m    \u001B[49m\u001B[43merrors\u001B[49m\u001B[38;5;241;43m=\u001B[39;49m\u001B[38;5;28;43mself\u001B[39;49m\u001B[38;5;241;43m.\u001B[39;49m\u001B[43moptions\u001B[49m\u001B[38;5;241;43m.\u001B[39;49m\u001B[43mget\u001B[49m\u001B[43m(\u001B[49m\u001B[38;5;124;43m\"\u001B[39;49m\u001B[38;5;124;43mencoding_errors\u001B[39;49m\u001B[38;5;124;43m\"\u001B[39;49m\u001B[43m,\u001B[49m\u001B[43m \u001B[49m\u001B[38;5;124;43m\"\u001B[39;49m\u001B[38;5;124;43mstrict\u001B[39;49m\u001B[38;5;124;43m\"\u001B[39;49m\u001B[43m)\u001B[49m\u001B[43m,\u001B[49m\n\u001B[1;32m   1888\u001B[0m \u001B[43m    \u001B[49m\u001B[43mstorage_options\u001B[49m\u001B[38;5;241;43m=\u001B[39;49m\u001B[38;5;28;43mself\u001B[39;49m\u001B[38;5;241;43m.\u001B[39;49m\u001B[43moptions\u001B[49m\u001B[38;5;241;43m.\u001B[39;49m\u001B[43mget\u001B[49m\u001B[43m(\u001B[49m\u001B[38;5;124;43m\"\u001B[39;49m\u001B[38;5;124;43mstorage_options\u001B[39;49m\u001B[38;5;124;43m\"\u001B[39;49m\u001B[43m,\u001B[49m\u001B[43m \u001B[49m\u001B[38;5;28;43;01mNone\u001B[39;49;00m\u001B[43m)\u001B[49m\u001B[43m,\u001B[49m\n\u001B[1;32m   1889\u001B[0m \u001B[43m\u001B[49m\u001B[43m)\u001B[49m\n\u001B[1;32m   1890\u001B[0m \u001B[38;5;28;01massert\u001B[39;00m \u001B[38;5;28mself\u001B[39m\u001B[38;5;241m.\u001B[39mhandles \u001B[38;5;129;01mis\u001B[39;00m \u001B[38;5;129;01mnot\u001B[39;00m \u001B[38;5;28;01mNone\u001B[39;00m\n\u001B[1;32m   1891\u001B[0m f \u001B[38;5;241m=\u001B[39m \u001B[38;5;28mself\u001B[39m\u001B[38;5;241m.\u001B[39mhandles\u001B[38;5;241m.\u001B[39mhandle\n",
      "File \u001B[0;32m~/Documents/Projekte/BAIQO/invariant_circuits/Pennylane_ML/.venv/lib/python3.10/site-packages/pandas/io/common.py:873\u001B[0m, in \u001B[0;36mget_handle\u001B[0;34m(path_or_buf, mode, encoding, compression, memory_map, is_text, errors, storage_options)\u001B[0m\n\u001B[1;32m    868\u001B[0m \u001B[38;5;28;01melif\u001B[39;00m \u001B[38;5;28misinstance\u001B[39m(handle, \u001B[38;5;28mstr\u001B[39m):\n\u001B[1;32m    869\u001B[0m     \u001B[38;5;66;03m# Check whether the filename is to be opened in binary mode.\u001B[39;00m\n\u001B[1;32m    870\u001B[0m     \u001B[38;5;66;03m# Binary mode does not support 'encoding' and 'newline'.\u001B[39;00m\n\u001B[1;32m    871\u001B[0m     \u001B[38;5;28;01mif\u001B[39;00m ioargs\u001B[38;5;241m.\u001B[39mencoding \u001B[38;5;129;01mand\u001B[39;00m \u001B[38;5;124m\"\u001B[39m\u001B[38;5;124mb\u001B[39m\u001B[38;5;124m\"\u001B[39m \u001B[38;5;129;01mnot\u001B[39;00m \u001B[38;5;129;01min\u001B[39;00m ioargs\u001B[38;5;241m.\u001B[39mmode:\n\u001B[1;32m    872\u001B[0m         \u001B[38;5;66;03m# Encoding\u001B[39;00m\n\u001B[0;32m--> 873\u001B[0m         handle \u001B[38;5;241m=\u001B[39m \u001B[38;5;28;43mopen\u001B[39;49m\u001B[43m(\u001B[49m\n\u001B[1;32m    874\u001B[0m \u001B[43m            \u001B[49m\u001B[43mhandle\u001B[49m\u001B[43m,\u001B[49m\n\u001B[1;32m    875\u001B[0m \u001B[43m            \u001B[49m\u001B[43mioargs\u001B[49m\u001B[38;5;241;43m.\u001B[39;49m\u001B[43mmode\u001B[49m\u001B[43m,\u001B[49m\n\u001B[1;32m    876\u001B[0m \u001B[43m            \u001B[49m\u001B[43mencoding\u001B[49m\u001B[38;5;241;43m=\u001B[39;49m\u001B[43mioargs\u001B[49m\u001B[38;5;241;43m.\u001B[39;49m\u001B[43mencoding\u001B[49m\u001B[43m,\u001B[49m\n\u001B[1;32m    877\u001B[0m \u001B[43m            \u001B[49m\u001B[43merrors\u001B[49m\u001B[38;5;241;43m=\u001B[39;49m\u001B[43merrors\u001B[49m\u001B[43m,\u001B[49m\n\u001B[1;32m    878\u001B[0m \u001B[43m            \u001B[49m\u001B[43mnewline\u001B[49m\u001B[38;5;241;43m=\u001B[39;49m\u001B[38;5;124;43m\"\u001B[39;49m\u001B[38;5;124;43m\"\u001B[39;49m\u001B[43m,\u001B[49m\n\u001B[1;32m    879\u001B[0m \u001B[43m        \u001B[49m\u001B[43m)\u001B[49m\n\u001B[1;32m    880\u001B[0m     \u001B[38;5;28;01melse\u001B[39;00m:\n\u001B[1;32m    881\u001B[0m         \u001B[38;5;66;03m# Binary mode\u001B[39;00m\n\u001B[1;32m    882\u001B[0m         handle \u001B[38;5;241m=\u001B[39m \u001B[38;5;28mopen\u001B[39m(handle, ioargs\u001B[38;5;241m.\u001B[39mmode)\n",
      "\u001B[0;31mFileNotFoundError\u001B[0m: [Errno 2] No such file or directory: '/Users/home/qiskit_env/Pennylane/output/hamiltonian/Ham_cycle-Sn_circuit-8-120-sampling_10-epochs_50-predictions-test-1.csv'"
     ]
    }
   ],
   "execution_count": 20
  },
  {
   "cell_type": "code",
   "id": "45cbce14",
   "metadata": {},
   "source": [
    "plot_graph(\"8 Qubits - Hamiltonian Cycle Accuracies\", accuracies, num_epochs)"
   ],
   "outputs": [],
   "execution_count": null
  },
  {
   "cell_type": "code",
   "id": "d46a3242",
   "metadata": {},
   "source": [
    "target_file_names = [\n",
    "    \"/Users/home/qiskit_env/Pennylane/output/max_clique/Max_clique-Sn_circuit-8-72-sampling_10-epochs_50-targets-test-1.csv\",\n",
    "    \"/Users/home/qiskit_env/Pennylane/output/max_clique/Max_clique-entanglement_circuit-8-72-sampling_10-epochs_50-targets-test-0.csv\",\n",
    "    \"/Users/home/qiskit_env/Pennylane/output/max_clique/Max_clique-Energy_circuit-8-72-sampling_10-epochs_50-targets-test-1.csv\",\n",
    "    \"/Users/home/qiskit_env/Pennylane/output/max_clique/Max_clique-Sn_free_parameter_circuit-8-88-sampling_10-epochs_50-targets-test-0.csv\"\n",
    "]\n",
    "prediction_file_names = [\n",
    "    \"/Users/home/qiskit_env/Pennylane/output/max_clique/Max_clique-Sn_circuit-8-72-sampling_10-epochs_50-predictions-test-1.csv\",\n",
    "    \"/Users/home/qiskit_env/Pennylane/output/max_clique/Max_clique-entanglement_circuit-8-72-sampling_10-epochs_50-predictions-test-0.csv\",\n",
    "    \"/Users/home/qiskit_env/Pennylane/output/max_clique/Max_clique-Energy_circuit-8-72-sampling_10-epochs_50-predictions-test-1.csv\",\n",
    "    \"/Users/home/qiskit_env/Pennylane/output/max_clique/Max_clique-Sn_free_parameter_circuit-8-88-sampling_10-epochs_50-predictions-test-0.csv\"\n",
    "]\n",
    "csv_filename = \"/Users/home/qiskit_env/Pennylane/output/max_clique/Grouped-3-clique-s_10-e_50-q_8.csv\""
   ],
   "outputs": [],
   "execution_count": null
  },
  {
   "cell_type": "code",
   "id": "5605ceaf",
   "metadata": {},
   "source": [
    "num_samples = 10\n",
    "num_epochs = 51 # always n+1\n",
    "num_inputs = 2900\n",
    "\n",
    "accuracies = extract_prediction_accuracy(prediction_file_names, target_file_names, num_samples, num_epochs, num_inputs, csv_filename)"
   ],
   "outputs": [],
   "execution_count": null
  },
  {
   "cell_type": "code",
   "id": "db83cedc",
   "metadata": {},
   "source": [
    "plot_graph(\"8 Qubits - 3-Clique Accuracies\", accuracies, num_epochs)"
   ],
   "outputs": [],
   "execution_count": null
  },
  {
   "cell_type": "markdown",
   "id": "6226eea9",
   "metadata": {},
   "source": [
    "## Clique Supervised"
   ]
  },
  {
   "cell_type": "code",
   "id": "774adbcd",
   "metadata": {},
   "source": [
    "import ast\n",
    "\n",
    "def extract_prediction_accuracy_per_qubit(prediction_file_names, target_file_names, num_samples, num_epochs, num_inputs, num_nodes):\n",
    "    accuracies = []\n",
    "    average_labels = []\n",
    "\n",
    "    for prediction_file_name, target_file_name in zip(prediction_file_names, target_file_names):\n",
    "        predictions = pd.read_csv(prediction_file_name)\n",
    "        targets = pd.read_csv(target_file_name)\n",
    "\n",
    "        targets_smaller = targets.drop(columns = ['sampling'])\n",
    "\n",
    "        chunks = [targets_smaller.iloc[i * num_inputs: (i + 1) * num_inputs] for i in range(num_samples)]\n",
    "        repeated_chunks = []\n",
    "        for chunk in chunks:\n",
    "            repeated_chunks.append(pd.concat([chunk] * num_epochs, ignore_index=True))\n",
    "        targets_repeated = pd.concat(repeated_chunks, ignore_index=True)\n",
    "\n",
    "        print('Predictions shape: ', predictions.shape)\n",
    "        print('Targets shape: ', targets_repeated.shape) \n",
    "\n",
    "        joined_table = predictions.join(targets_repeated)\n",
    "\n",
    "        joined_table['prediction'] = joined_table['prediction'].apply(lambda x: x if isinstance(x, list) else eval(x))\n",
    "        joined_table['target'] = joined_table['target'].apply(lambda x: x if isinstance(x, list) else eval(x))\n",
    "        \n",
    "        pred_split = pd.DataFrame(joined_table['prediction'].to_list(), columns=[f'prediction_{i+1}' for i in range(num_nodes)])\n",
    "        joined_table = pd.concat([joined_table.drop(columns=['prediction']), pred_split], axis=1)\n",
    "\n",
    "        target_split = pd.DataFrame(joined_table['target'].to_list(), columns=[f'target_{i+1}' for i in range(num_nodes)])\n",
    "        joined_table = pd.concat([joined_table.drop(columns=['target']), target_split], axis=1)\n",
    "\n",
    "\n",
    "        node_accuracies = []\n",
    "\n",
    "        for i in range(1, num_nodes + 1):\n",
    "            pred_col = f\"prediction_{i}\"\n",
    "            target_col = f\"target_{i}\"\n",
    "\n",
    "            joined_table[pred_col] = np.sign(joined_table[pred_col])\n",
    "            joined_table.loc[joined_table[pred_col] == -1.0, pred_col] = 0.0\n",
    "    \n",
    "            joined_table[\"correct\"] = joined_table[pred_col] == joined_table[target_col]\n",
    "    \n",
    "            grouped = joined_table[[\"sampling\", \"epoch\", \"correct\"]].groupby([\"sampling\", \"epoch\"]).mean()\n",
    "            accuracy_matrix = grouped.to_numpy().reshape(num_samples, num_epochs)\n",
    "            node_accuracies.append(accuracy_matrix)\n",
    "\n",
    "            # Average label for coloring later\n",
    "            avg_label = joined_table[target_col].mean()\n",
    "            average_labels.append(avg_label)\n",
    "            print(average_labels)\n",
    "\n",
    "        accuracies = np.stack(node_accuracies, axis=0)\n",
    "\n",
    "        combined_df = pd.DataFrame({\"Epoch\": list(range(num_epochs))})\n",
    "\n",
    "        for i, data in enumerate(accuracies):\n",
    "            combined_df[f\"Node{i+1}_Mean\"] = data.mean(axis=0)\n",
    "            combined_df[f\"Node{i+1}_Error\"] = data.std(axis=0)\n",
    "\n",
    "        combined_df.to_csv(\"accuracies_per_node.csv\", index=False)\n",
    "\n",
    "    return accuracies, average_labels\n",
    "\n",
    "\n",
    "\n",
    "def plot_graph(graph_name, accuracies, num_epochs, average_labels):\n",
    "    _, ax = plt.subplots(figsize=(12, 8))\n",
    "\n",
    "    color_palette = ['blue', 'orange', 'green', 'purple', 'brown', 'pink', 'red', 'cyan', 'black', 'yellow']\n",
    "    labels = [f\"Qubit {i+1}\" for i in range(len(accuracies))]\n",
    "\n",
    "    epochs = list(range(num_epochs))\n",
    "    fat_epochs = list(range(0, num_epochs, 5))\n",
    "\n",
    "    for i, (data, label) in enumerate(zip(accuracies, labels)):\n",
    "        color = color_palette[i % len(color_palette)]\n",
    "        means = data.mean(axis=0)\n",
    "        stds = data.std(axis=0)\n",
    "\n",
    "        ax.plot(epochs, means, '-o', markersize=3, label=label, color=color)\n",
    "        ax.errorbar(epochs, means, yerr=stds, fmt='none', capsize=3, alpha=0.3, color=color)\n",
    "        ax.plot(fat_epochs, means[::5], 'o', markersize=6, color=color)\n",
    "\n",
    "    ax.set_xlabel(\"Epoch\")\n",
    "    ax.set_ylabel(\"Average test accuracy\")\n",
    "    ax.set_title(graph_name)\n",
    "    ax.legend(title=\"Qubit Index\")\n",
    "    ax.grid(True)\n",
    "    plt.tight_layout()\n",
    "    plt.show()"
   ],
   "outputs": [],
   "execution_count": null
  },
  {
   "cell_type": "code",
   "id": "455c0237",
   "metadata": {},
   "source": [
    "import ast\n",
    "\n",
    "def extract_prediction_accuracy_per_qubit(prediction_file_names, target_file_names, num_samples, num_epochs, num_inputs, num_nodes):\n",
    "    accuracies = []\n",
    "\n",
    "    for prediction_file_name, target_file_name in zip(prediction_file_names, target_file_names):\n",
    "        predictions = pd.read_csv(prediction_file_name)\n",
    "        targets = pd.read_csv(target_file_name)\n",
    "\n",
    "        targets_smaller = targets.drop(columns = ['sampling'])\n",
    "\n",
    "        chunks = [targets_smaller.iloc[i * num_inputs: (i + 1) * num_inputs] for i in range(num_samples)]\n",
    "        repeated_chunks = []\n",
    "        for chunk in chunks:\n",
    "            repeated_chunks.append(pd.concat([chunk] * num_epochs, ignore_index=True))\n",
    "        targets_repeated = pd.concat(repeated_chunks, ignore_index=True)\n",
    "\n",
    "        print('Predictions shape: ', predictions.shape)\n",
    "        print('Targets shape: ', targets_repeated.shape) \n",
    "\n",
    "        joined_table = predictions.join(targets_repeated)\n",
    "\n",
    "        joined_table['prediction'] = joined_table['prediction'].apply(lambda x: x if isinstance(x, list) else eval(x))\n",
    "        joined_table['target'] = joined_table['target'].apply(lambda x: x if isinstance(x, list) else eval(x))\n",
    "        \n",
    "        pred_split = pd.DataFrame(joined_table['prediction'].to_list(), columns=[f'prediction_{i+1}' for i in range(num_nodes)])\n",
    "        joined_table = pd.concat([joined_table.drop(columns=['prediction']), pred_split], axis=1)\n",
    "\n",
    "        target_split = pd.DataFrame(joined_table['target'].to_list(), columns=[f'target_{i+1}' for i in range(num_nodes)])\n",
    "        joined_table = pd.concat([joined_table.drop(columns=['target']), target_split], axis=1)\n",
    "\n",
    "\n",
    "        node_accuracies = []\n",
    "\n",
    "        for i in range(1, num_nodes + 1):\n",
    "            pred_col = f\"prediction_{i}\"\n",
    "            target_col = f\"target_{i}\"\n",
    "\n",
    "            joined_table[pred_col] = np.sign(joined_table[pred_col])\n",
    "            joined_table.loc[joined_table[pred_col] == -1.0, pred_col] = 0.0\n",
    "    \n",
    "            joined_table[\"correct\"] = joined_table[pred_col] == joined_table[target_col]\n",
    "    \n",
    "            grouped = joined_table[[\"sampling\", \"epoch\", \"correct\"]].groupby([\"sampling\", \"epoch\"]).mean()\n",
    "            accuracy_matrix = grouped.to_numpy().reshape(num_samples, num_epochs)\n",
    "            node_accuracies.append(accuracy_matrix)\n",
    "\n",
    "        accuracies = np.stack(node_accuracies, axis=0)\n",
    "\n",
    "        combined_df = pd.DataFrame({\"Epoch\": list(range(num_epochs))})\n",
    "\n",
    "        for i, data in enumerate(accuracies):\n",
    "            combined_df[f\"Node{i+1}_Mean\"] = data.mean(axis=0)\n",
    "            combined_df[f\"Node{i+1}_Error\"] = data.std(axis=0)\n",
    "\n",
    "\n",
    "        node_cols = [f'Node{i}_Mean' for i in range(1, num_nodes + 1)] \n",
    "        combined_df['Node_Avg'] = combined_df[node_cols].mean(axis=1)\n",
    "        combined_df.drop(columns=node_cols, inplace=True)\n",
    "\n",
    "        node_cols_error = [f'Node{i}_Error' for i in range(1, num_nodes + 1)]\n",
    "        combined_df['Node_Avg_Error'] = combined_df[node_cols_error].mean(axis=1)\n",
    "        combined_df.drop(columns=node_cols_error, inplace=True)\n",
    "\n",
    "        combined_df.to_csv(\"accuracies_per_node.csv\", index=False)\n",
    "\n",
    "        print(combined_df.head())  # Check the first few rows of the combined DataFrame\n",
    "\n",
    "    return combined_df\n",
    "\n",
    "\n",
    "\n",
    "def plot_graph(graph_name, accuracy_dataframe, num_epochs):\n",
    "    _, ax = plt.subplots(figsize=(12, 8))\n",
    "\n",
    "    color = 'blue'\n",
    "\n",
    "    epochs = list(range(num_epochs))\n",
    "    fat_epochs = list(range(0, num_epochs, 5))\n",
    "\n",
    "    means = accuracy_dataframe['Node_Avg']\n",
    "    stds = accuracy_dataframe['Node_Avg_Error']\n",
    "\n",
    "    ax.plot(epochs, means, '-o', markersize=3, label=\"Average\", color=color)\n",
    "    ax.errorbar(epochs, means, yerr=stds, fmt='none', capsize=3, alpha=0.3, color=color)\n",
    "    ax.plot(fat_epochs, means.iloc[::5], 'o', markersize=6, color=color)\n",
    "\n",
    "    ax.set_xlabel(\"Epoch\")\n",
    "    ax.set_ylabel(\"Average test accuracy\")\n",
    "    ax.set_title(graph_name)\n",
    "    ax.legend(title=\"Average Accuracy\")\n",
    "    ax.grid(True)\n",
    "    plt.tight_layout()\n",
    "    plt.show()"
   ],
   "outputs": [],
   "execution_count": null
  },
  {
   "cell_type": "code",
   "id": "c8c0a012",
   "metadata": {},
   "source": [
    "target_file_names = [\n",
    "    #\"/Users/home/qiskit_env/Pennylane/output/clique_supervised/Clique_supervised-Sn_circuit-10-60-sampling_5-epochs_50-targets-test-1.csv\",\n",
    "    #\"/Users/home/qiskit_env/Pennylane/output/clique_supervised/Clique_supervised-entanglement_circuit-10-60-sampling_5-epochs_50-targets-test-0.csv\",\n",
    "    \"/Users/home/qiskit_env/Pennylane/output/clique_supervised/Clique_supervised-Cn_circuit-8-120-sampling_1-epochs_200-targets-test-0.csv\"\n",
    "]\n",
    "prediction_file_names = [\n",
    "    #\"/Users/home/qiskit_env/Pennylane/output/clique_supervised/Clique_supervised-Sn_circuit-10-60-sampling_5-epochs_50-predictions-test-1.csv\",\n",
    "    #\"/Users/home/qiskit_env/Pennylane/output/clique_supervised/Clique_supervised-entanglement_circuit-10-60-sampling_5-epochs_50-predictions-test-0.csv\",\n",
    "    \"/Users/home/qiskit_env/Pennylane/output/clique_supervised/Clique_supervised-Cn_circuit-8-120-sampling_1-epochs_200-predictions-test-0.csv\"\n",
    "]\n",
    "#csv_filename = \"/Users/home/qiskit_env/Pennylane/output/clique_supervised/Grouped-3-clique_supervised-s_10-e_50-q_6.csv\""
   ],
   "outputs": [],
   "execution_count": null
  },
  {
   "cell_type": "code",
   "id": "abbd940e",
   "metadata": {},
   "source": [
    "num_samples = 1\n",
    "num_epochs = 201 # always n+1\n",
    "num_inputs = 2900\n",
    "num_nodes = 8\n",
    "\n",
    "accuracies = extract_prediction_accuracy_per_qubit(prediction_file_names, target_file_names, num_samples, num_epochs, num_inputs, num_nodes)"
   ],
   "outputs": [],
   "execution_count": null
  },
  {
   "cell_type": "code",
   "id": "8998c895",
   "metadata": {},
   "source": [
    "plot_graph(\"8 Qubits - 4-Clique Accuracies - Cn Average\", accuracies, num_epochs)"
   ],
   "outputs": [],
   "execution_count": null
  },
  {
   "cell_type": "markdown",
   "id": "03082cb9",
   "metadata": {},
   "source": [
    "## Max Cut"
   ]
  },
  {
   "cell_type": "code",
   "id": "db35e90b",
   "metadata": {},
   "source": [
    "import matplotlib.pyplot as plt\n",
    "import numpy as np\n",
    "import pandas as pd\n",
    "import ast"
   ],
   "outputs": [],
   "execution_count": null
  },
  {
   "cell_type": "code",
   "id": "93f6f154",
   "metadata": {},
   "source": [
    "def predicted_cut_value(prediction_file_names, num_samples, num_epochs, num_inputs, num_nodes):\n",
    "    approx_rates = []\n",
    "    approx_rates_sample = []\n",
    "\n",
    "    for prediction_file_name in prediction_file_names:\n",
    "\n",
    "        predictions = pd.read_csv(prediction_file_name)\n",
    "        \n",
    "        #predictions['prediction'] = predictions['prediction'].apply(lambda x: x if isinstance(x, list) else eval(x))\n",
    "        #predictions['prediction'] = predictions['prediction'].apply(lambda list: [float(np.sign(x)) for x in list]) \n",
    "\n",
    "        # Deal with 2 apply's in one:\n",
    "        predictions['prediction'] = predictions['prediction'].apply(lambda x: [float(np.sign(y)) for y in (eval(x) if not isinstance(x, list) else x)])\n",
    "        predictions['adjacency'] = predictions['adjacency'].apply(ast.literal_eval)\n",
    "\n",
    "\n",
    "        for k in range(num_inputs * num_samples * num_epochs):\n",
    "            cut_values = []\n",
    "            adj_matrix = np.array(predictions['adjacency'][k]).reshape(num_nodes, num_nodes)\n",
    "            cut_value = 0\n",
    "            for i in range(num_nodes):\n",
    "                for j in range(num_nodes):\n",
    "                    if adj_matrix[i][j] == 1 and predictions['prediction'][k][i] != predictions['prediction'][k][j]:\n",
    "                        cut_value += 1\n",
    "\n",
    "            #predictions.at[k, 'cut_value'] = cut_value/2\n",
    "\n",
    "            #Optimize the cut value column generation:\n",
    "            #cut_values.append(cut_value/2)\n",
    "            # ...\n",
    "\n",
    "            # Other option: leave out generatin 'cut_value' column altogether!\n",
    "\n",
    "            approx_rates_sample.append((cut_value/2)/predictions['max_cut'][k])\n",
    "\n",
    "            if (k+1) % (num_epochs * num_inputs) == 0:\n",
    "                approx_rate_sample_reshaped = np.array(approx_rates_sample).reshape(num_epochs, num_inputs)\n",
    "                mean_approx_rates = approx_rate_sample_reshaped.mean(axis = 1)\n",
    "\n",
    "                approx_rates.append(mean_approx_rates)\n",
    "                approx_rates_sample = []\n",
    "\n",
    "        #predictions.to_csv('Preliminary_JOIN.csv')   \n",
    "        \n",
    "        return approx_rates\n",
    "    \n",
    "\n",
    "\n",
    "def plot_graph(graph_name, approx_rates, num_epochs):\n",
    "    \n",
    "    # Here: OPTIMIZE the mean calculation! (Later)\n",
    "    approx_samples = np.array(approx_rates)\n",
    "    means = approx_samples.mean(axis=0)  \n",
    "    stds = approx_samples.std(axis=0) \n",
    "\n",
    "    _, ax = plt.subplots(figsize=(12, 8))\n",
    "    color = 'blue'\n",
    "\n",
    "    epochs = list(range(num_epochs))\n",
    "    fat_epochs = list(range(0, num_epochs, 5))\n",
    "\n",
    "    ax.plot(epochs, means, '-o', markersize=3, label=\"Average\", color=color)\n",
    "    ax.errorbar(epochs, means, yerr=stds, fmt='none', capsize=3, alpha=0.3, color=color)\n",
    "    ax.plot(fat_epochs, means[::5], 'o', markersize=6, color=color)\n",
    "\n",
    "    ax.set_xlabel(\"Epoch\")\n",
    "    ax.set_ylabel(\"Average test accuracy\")\n",
    "    ax.set_title(graph_name)\n",
    "    ax.legend(title=\"Average Accuracy\")\n",
    "    ax.grid(True)\n",
    "    plt.tight_layout()\n",
    "    plt.show()\n",
    "\n"
   ],
   "outputs": [],
   "execution_count": null
  },
  {
   "cell_type": "code",
   "id": "f87835a3",
   "metadata": {},
   "source": [
    "prediction_file_names = [\n",
    "    \"/Users/home/Quantum_Computing/Pennylane/Graph_ML/output/max_cut/Max_Cut-Sn_circuit-6-60-sampling_5-epochs_5-predictions-test-1.csv\",\n",
    "    #\"/Users/home/Quantum_Computing/Pennylane/Graph_Machine_Learning/max_cut/Max_Cut-entanglement_circuit-6-120-sampling_5-epochs_150-predictions-test-0.csv\",\n",
    "    #\"/Users/home/Quantum_Computing/Pennylane/Graph_Machine_Learning/output/max_cut/Max_Cut-Cn_circuit-6-60-sampling_5-epochs_150-predictions-test-0.csv\",\n",
    "]"
   ],
   "outputs": [],
   "execution_count": null
  },
  {
   "cell_type": "code",
   "id": "60d624dd",
   "metadata": {},
   "source": [
    "num_samples = 5\n",
    "num_epochs = 6 # always n+1\n",
    "num_inputs = 2900\n",
    "num_nodes = 6\n",
    "\n",
    "mean_approx_rates = predicted_cut_value(prediction_file_names, num_samples, num_epochs, num_inputs, num_nodes)"
   ],
   "outputs": [],
   "execution_count": null
  },
  {
   "cell_type": "code",
   "id": "ec68352b",
   "metadata": {},
   "source": [
    "plot_graph(\"6 Nodes MaxCut Cn-60 (5 samples)\", mean_approx_rates, num_epochs)"
   ],
   "outputs": [],
   "execution_count": null
  }
 ],
 "metadata": {
  "kernelspec": {
   "display_name": "Python 3",
   "language": "python",
   "name": "python3"
  },
  "language_info": {
   "codemirror_mode": {
    "name": "ipython",
    "version": 3
   },
   "file_extension": ".py",
   "mimetype": "text/x-python",
   "name": "python",
   "nbconvert_exporter": "python",
   "pygments_lexer": "ipython3",
   "version": "3.12.2"
  }
 },
 "nbformat": 4,
 "nbformat_minor": 5
}
